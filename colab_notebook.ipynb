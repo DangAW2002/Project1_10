{
    "cells": [
      {
        "cell_type": "markdown",
        "metadata": {},
        "source": [
          "# Project Setup on Google Colab\n",
          "This notebook sets up the project environment and runs the application on Google Colab."
        ]
      },
      {
        "cell_type": "code",
        "metadata": {},
        "source": [
          "# Clone the repository\n",
          "!git clone https://github.com/your-repo/ngay10thang1.git\n",
          "%cd ngay10thang1"
        ],
        "execution_count": null,
        "outputs": []
      },
      {
        "cell_type": "code",
        "metadata": {},
        "source": [
          "# Install required packages\n",
          "!pip install -r requirements.txt"
        ],
        "execution_count": null,
        "outputs": []
      },
      {
        "cell_type": "code",
        "metadata": {},
        "source": [
          "# Run the application\n",
          "!python app.py"
        ],
        "execution_count": null,
        "outputs": []
      }
    ],
    "metadata": {
      "colab": {
        "name": "Project Setup on Google Colab"
      },
      "kernelspec": {
        "display_name": "Python 3",
        "language": "python",
        "name": "python3"
      },
      "language_info": {
        "name": "python"
      }
    },
    "nbformat": 4,
    "nbformat_minor": 4
  }